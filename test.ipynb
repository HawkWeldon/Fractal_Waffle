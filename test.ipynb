{
 "cells": [
  {
   "cell_type": "code",
   "execution_count": 221,
   "metadata": {},
   "outputs": [],
   "source": [
    "import binascii\n",
    "import numpy as np\n",
    "import cv2\n",
    "import os\n",
    "import ffmpeg\n",
    "from PIL import Image"
   ]
  },
  {
   "cell_type": "code",
   "execution_count": 222,
   "metadata": {},
   "outputs": [],
   "source": [
    "def strip(content):\n",
    "    curx = str(content)[2:len(content)]\n",
    "    return curx"
   ]
  },
  {
   "cell_type": "code",
   "execution_count": 223,
   "metadata": {},
   "outputs": [],
   "source": [
    "# def form():\n",
    "#     video_name = './vid.mp4'\n",
    "#     images = ['1.jpg','2.jpg']\n",
    "#     fourcc = cv2.VideoWriter_fourcc(*'mp4v')\n",
    "#     video = cv2.VideoWriter(video_name, fourcc, 10, (1280,720))\n",
    "#     for image in images:\n",
    "#         video.write(cv2.imread(image))\n",
    "#     cv2.destroyAllWindows()\n",
    "#     video.release()\n",
    "def form_using_image_folder(image_folder):\n",
    "    video_name = './vid.avi'\n",
    "    images = [img for img in os.listdir(image_folder) if img.endswith(\".jpg\")]\n",
    "    fourcc = 0\n",
    "    video = cv2.VideoWriter(video_name, fourcc, 10, (1920,1080))\n",
    "    for image in images:\n",
    "        video.write(cv2.imread(os.path.join(image_folder, image)))\n",
    "    cv2.destroyAllWindows()\n",
    "    video.release()"
   ]
  },
  {
   "cell_type": "code",
   "execution_count": 224,
   "metadata": {},
   "outputs": [],
   "source": [
    "image_folder = './folder_img' \n",
    "form_using_image_folder(image_folder)"
   ]
  },
  {
   "cell_type": "code",
   "execution_count": 225,
   "metadata": {},
   "outputs": [
    {
     "name": "stderr",
     "output_type": "stream",
     "text": [
      "ffmpeg version 4.4.2-0ubuntu0.22.04.1 Copyright (c) 2000-2021 the FFmpeg developers\n",
      "  built with gcc 11 (Ubuntu 11.2.0-19ubuntu1)\n",
      "  configuration: --prefix=/usr --extra-version=0ubuntu0.22.04.1 --toolchain=hardened --libdir=/usr/lib/x86_64-linux-gnu --incdir=/usr/include/x86_64-linux-gnu --arch=amd64 --enable-gpl --disable-stripping --enable-gnutls --enable-ladspa --enable-libaom --enable-libass --enable-libbluray --enable-libbs2b --enable-libcaca --enable-libcdio --enable-libcodec2 --enable-libdav1d --enable-libflite --enable-libfontconfig --enable-libfreetype --enable-libfribidi --enable-libgme --enable-libgsm --enable-libjack --enable-libmp3lame --enable-libmysofa --enable-libopenjpeg --enable-libopenmpt --enable-libopus --enable-libpulse --enable-librabbitmq --enable-librubberband --enable-libshine --enable-libsnappy --enable-libsoxr --enable-libspeex --enable-libsrt --enable-libssh --enable-libtheora --enable-libtwolame --enable-libvidstab --enable-libvorbis --enable-libvpx --enable-libwebp --enable-libx265 --enable-libxml2 --enable-libxvid --enable-libzimg --enable-libzmq --enable-libzvbi --enable-lv2 --enable-omx --enable-openal --enable-opencl --enable-opengl --enable-sdl2 --enable-pocketsphinx --enable-librsvg --enable-libmfx --enable-libdc1394 --enable-libdrm --enable-libiec61883 --enable-chromaprint --enable-frei0r --enable-libx264 --enable-shared\n",
      "  WARNING: library configuration mismatch\n",
      "  avcodec     configuration: --prefix=/usr --extra-version=0ubuntu0.22.04.1 --toolchain=hardened --libdir=/usr/lib/x86_64-linux-gnu --incdir=/usr/include/x86_64-linux-gnu --arch=amd64 --enable-gpl --disable-stripping --enable-gnutls --enable-ladspa --enable-libaom --enable-libass --enable-libbluray --enable-libbs2b --enable-libcaca --enable-libcdio --enable-libcodec2 --enable-libdav1d --enable-libflite --enable-libfontconfig --enable-libfreetype --enable-libfribidi --enable-libgme --enable-libgsm --enable-libjack --enable-libmp3lame --enable-libmysofa --enable-libopenjpeg --enable-libopenmpt --enable-libopus --enable-libpulse --enable-librabbitmq --enable-librubberband --enable-libshine --enable-libsnappy --enable-libsoxr --enable-libspeex --enable-libsrt --enable-libssh --enable-libtheora --enable-libtwolame --enable-libvidstab --enable-libvorbis --enable-libvpx --enable-libwebp --enable-libx265 --enable-libxml2 --enable-libxvid --enable-libzimg --enable-libzmq --enable-libzvbi --enable-lv2 --enable-omx --enable-openal --enable-opencl --enable-opengl --enable-sdl2 --enable-pocketsphinx --enable-librsvg --enable-libmfx --enable-libdc1394 --enable-libdrm --enable-libiec61883 --enable-chromaprint --enable-frei0r --enable-libx264 --enable-shared --enable-version3 --disable-doc --disable-programs --enable-libaribb24 --enable-libopencore_amrnb --enable-libopencore_amrwb --enable-libtesseract --enable-libvo_amrwbenc --enable-libsmbclient\n",
      "  libavutil      56. 70.100 / 56. 70.100\n",
      "  libavcodec     58.134.100 / 58.134.100\n",
      "  libavformat    58. 76.100 / 58. 76.100\n",
      "  libavdevice    58. 13.100 / 58. 13.100\n",
      "  libavfilter     7.110.100 /  7.110.100\n",
      "  libswscale      5.  9.100 /  5.  9.100\n",
      "  libswresample   3.  9.100 /  3.  9.100\n",
      "  libpostproc    55.  9.100 / 55.  9.100\n",
      "Input #0, avi, from 'vid.avi':\n",
      "  Metadata:\n",
      "    software        : Lavf59.27.100\n",
      "  Duration: 00:00:00.20, start: 0.000000, bitrate: 249632 kb/s\n",
      "  Stream #0:0: Video: rawvideo (I420 / 0x30323449), yuv420p, 1920x1080, 10 fps, 10 tbr, 10 tbn, 10 tbc\n",
      "Stream mapping:\n",
      "  Stream #0:0 -> #0:0 (rawvideo (native) -> h264 (libx264))\n",
      "Press [q] to stop, [?] for help\n",
      "[libx264 @ 0x56433cdd38c0] using cpu capabilities: MMX2 SSE2Fast SSSE3 SSE4.2 AVX FMA3 BMI2 AVX2 AVX512\n",
      "[libx264 @ 0x56433cdd38c0] profile High, level 4.0, 4:2:0, 8-bit\n",
      "Output #0, avi, to 'output.avi':\n",
      "  Metadata:\n",
      "    software        : Lavf59.27.100\n",
      "    ISFT            : Lavf58.76.100\n",
      "  Stream #0:0: Video: h264 (H264 / 0x34363248), yuv420p(progressive), 1920x1080, q=2-31, 10 fps, 10 tbn\n",
      "    Metadata:\n",
      "      encoder         : Lavc58.134.100 libx264\n",
      "    Side data:\n",
      "      cpb: bitrate max/min/avg: 0/0/0 buffer size: 0 vbv_delay: N/A\n",
      "frame=    2 fps=0.0 q=-1.0 Lsize=     118kB time=00:00:00.20 bitrate=4829.9kbits/s speed= 2.5x    \n",
      "video:112kB audio:0kB subtitle:0kB other streams:0kB global headers:0kB muxing overhead: 4.987306%\n",
      "[libx264 @ 0x56433cdd38c0] frame I:1     Avg QP:20.77  size: 85049\n",
      "[libx264 @ 0x56433cdd38c0] frame P:1     Avg QP:20.79  size: 29963\n",
      "[libx264 @ 0x56433cdd38c0] mb I  I16..4: 19.1% 76.3%  4.6%\n",
      "[libx264 @ 0x56433cdd38c0] mb P  I16..4: 10.9% 32.5%  0.2%  P16..4: 22.8%  5.4%  2.7%  0.0%  0.0%    skip:25.5%\n",
      "[libx264 @ 0x56433cdd38c0] 8x8 transform intra:75.8% inter:86.8%\n",
      "[libx264 @ 0x56433cdd38c0] coded y,uvDC,uvAC intra: 50.7% 71.6% 13.8% inter: 23.0% 34.6% 0.2%\n",
      "[libx264 @ 0x56433cdd38c0] i16 v,h,dc,p: 32% 42% 14% 13%\n",
      "[libx264 @ 0x56433cdd38c0] i8 v,h,dc,ddl,ddr,vr,hd,vl,hu: 25% 39% 25%  1%  1%  1%  3%  1%  5%\n",
      "[libx264 @ 0x56433cdd38c0] i4 v,h,dc,ddl,ddr,vr,hd,vl,hu: 28% 46%  6%  2%  2%  2%  3%  2%  9%\n",
      "[libx264 @ 0x56433cdd38c0] i8c dc,h,v,p: 45% 29% 24%  2%\n",
      "[libx264 @ 0x56433cdd38c0] Weighted P-Frames: Y:0.0% UV:0.0%\n",
      "[libx264 @ 0x56433cdd38c0] kb/s:4600.48\n"
     ]
    },
    {
     "data": {
      "text/plain": [
       "(None, None)"
      ]
     },
     "execution_count": 225,
     "metadata": {},
     "output_type": "execute_result"
    }
   ],
   "source": [
    "(\n",
    "    ffmpeg.input(\"vid.avi\")\n",
    "            .output(\"output.avi\",vcodec = 'h264')\n",
    "            .run()\n",
    ")"
   ]
  },
  {
   "cell_type": "code",
   "execution_count": 226,
   "metadata": {},
   "outputs": [
    {
     "name": "stdout",
     "output_type": "stream",
     "text": [
      "Reading frame:  0\n",
      "Reading frame:  1\n",
      "done\n"
     ]
    }
   ],
   "source": [
    "vid = cv2.VideoCapture('./output.avi')\n",
    "success,image = vid.read()\n",
    "c = 0\n",
    "while success:\n",
    "  cv2.imwrite(\"./out_check/Frame%05d.jpg\" % c, image)    \n",
    "  success,image = vid.read()\n",
    "  print('Reading frame: ', c)\n",
    "  c = c + 1\n",
    "\n",
    "print('done')\n"
   ]
  },
  {
   "cell_type": "markdown",
   "metadata": {},
   "source": [
    "![](./possible_leads%20/9.png)"
   ]
  },
  {
   "cell_type": "markdown",
   "metadata": {},
   "source": [
    "We are back to 120kB from the original 250kB images, however this time there is something different."
   ]
  },
  {
   "cell_type": "markdown",
   "metadata": {},
   "source": [
    "Somehow the frames have more information than we started with."
   ]
  },
  {
   "cell_type": "code",
   "execution_count": 227,
   "metadata": {},
   "outputs": [],
   "source": [
    "filename = 'output.avi'\n",
    "with open(filename, 'rb') as f:\n",
    "    content = f.read()\n",
    "content=binascii.hexlify(content)\n",
    "# print(content)"
   ]
  },
  {
   "cell_type": "code",
   "execution_count": 234,
   "metadata": {},
   "outputs": [
    {
     "name": "stdout",
     "output_type": "stream",
     "text": [
      "False\n",
      "(89, 99, 98)\n",
      "(92, 100, 102)\n"
     ]
    }
   ],
   "source": [
    "input_images_1 = Image.open('./out_check/Frame00000.jpg')\n",
    "input_images_2 = Image.open('./folder_img/2.jpg')\n",
    "pixel_map_1 = input_images_1.load()\n",
    "pixel_map_2 = input_images_2.load()\n",
    "point = (940,553)\n",
    "a = pixel_map_1[point]\n",
    "b = pixel_map_2[point]\n",
    "consider_same = a == b\n",
    "print(consider_same)\n",
    "print(a)\n",
    "print(b)\n"
   ]
  },
  {
   "cell_type": "code",
   "execution_count": 229,
   "metadata": {},
   "outputs": [
    {
     "name": "stdout",
     "output_type": "stream",
     "text": [
      "52.492332175925924'%' under threshold\n"
     ]
    }
   ],
   "source": [
    "number_pixels = 1920*1080\n",
    "threshold = 3\n",
    "count = 0\n",
    "for i in range (0,1920):\n",
    "    for j in range (0,1080):\n",
    "        point = (i,j)\n",
    "        a = pixel_map_1[point]\n",
    "        b = pixel_map_2[point]\n",
    "        if ((a[0] in range (b[0]-threshold,b[0]+threshold)) & (a[1] in range (b[1]-threshold,b[1]+threshold)) & (a[2] in range (b[2]-threshold,b[2]+threshold))):\n",
    "            count = count + 1\n",
    "per_equal = (count/number_pixels)*100\n",
    "print(str(per_equal)+\"'%' under threshold\")"
   ]
  },
  {
   "cell_type": "code",
   "execution_count": 230,
   "metadata": {},
   "outputs": [
    {
     "name": "stdout",
     "output_type": "stream",
     "text": [
      "88.88560956790124'%' under threshold\n"
     ]
    }
   ],
   "source": [
    "number_pixels = 1920*1080\n",
    "threshold = 5\n",
    "count = 0\n",
    "for i in range (0,1920):\n",
    "    for j in range (0,1080):\n",
    "        point = (i,j)\n",
    "        a = pixel_map_1[point]\n",
    "        b = pixel_map_2[point]\n",
    "        if ((a[0] in range (b[0]-threshold,b[0]+threshold)) & (a[1] in range (b[1]-threshold,b[1]+threshold)) & (a[2] in range (b[2]-threshold,b[2]+threshold))):\n",
    "            count = count + 1\n",
    "per_equal = (count/number_pixels)*100\n",
    "print(str(per_equal)+\"'%' under threshold\")"
   ]
  },
  {
   "cell_type": "code",
   "execution_count": 231,
   "metadata": {},
   "outputs": [
    {
     "name": "stdout",
     "output_type": "stream",
     "text": [
      "98.91507523148148'%' under threshold\n"
     ]
    }
   ],
   "source": [
    "number_pixels = 1920*1080\n",
    "threshold = 10\n",
    "count = 0\n",
    "for i in range (0,1920):\n",
    "    for j in range (0,1080):\n",
    "        point = (i,j)\n",
    "        a = pixel_map_1[point]\n",
    "        b = pixel_map_2[point]\n",
    "        if ((a[0] in range (b[0]-threshold,b[0]+threshold)) & (a[1] in range (b[1]-threshold,b[1]+threshold)) & (a[2] in range (b[2]-threshold,b[2]+threshold))):\n",
    "            count = count + 1\n",
    "per_equal = (count/number_pixels)*100\n",
    "print(str(per_equal)+\"'%' under threshold\")"
   ]
  }
 ],
 "metadata": {
  "kernelspec": {
   "display_name": "Python 3",
   "language": "python",
   "name": "python3"
  },
  "language_info": {
   "codemirror_mode": {
    "name": "ipython",
    "version": 3
   },
   "file_extension": ".py",
   "mimetype": "text/x-python",
   "name": "python",
   "nbconvert_exporter": "python",
   "pygments_lexer": "ipython3",
   "version": "3.11.7"
  }
 },
 "nbformat": 4,
 "nbformat_minor": 2
}
